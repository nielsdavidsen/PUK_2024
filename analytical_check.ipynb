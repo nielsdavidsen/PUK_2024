{
 "cells": [
  {
   "cell_type": "code",
   "execution_count": 3,
   "metadata": {},
   "outputs": [],
   "source": [
    "import sympy as sp"
   ]
  },
  {
   "cell_type": "code",
   "execution_count": 4,
   "metadata": {},
   "outputs": [
    {
     "data": {
      "text/latex": [
       "$\\displaystyle 0.5 \\sqrt{\\frac{4 a^{2} c}{d} - \\left(- \\frac{a^{2} c}{d^{2}} + b - d\\right)^{2}}$"
      ],
      "text/plain": [
       "0.5*sqrt(4*a**2*c/d - (-a**2*c/d**2 + b - d)**2)"
      ]
     },
     "metadata": {},
     "output_type": "display_data"
    },
    {
     "data": {
      "text/latex": [
       "$\\displaystyle - \\frac{a^{2} c}{2 d^{2}} + \\frac{b}{2} - \\frac{d}{2} + \\frac{\\sqrt{- \\frac{4 a^{2} c}{d} + \\left(- \\frac{a^{2} c}{d^{2}} + b - d\\right)^{2}}}{2}$"
      ],
      "text/plain": [
       "-a**2*c/(2*d**2) + b/2 - d/2 + sqrt(-4*a**2*c/d + (-a**2*c/d**2 + b - d)**2)/2"
      ]
     },
     "metadata": {},
     "output_type": "display_data"
    }
   ],
   "source": [
    "a, b, c, d, omega, x, y = sp.symbols('a b c d omega, x, y')\n",
    "\n",
    "eq1 = a*omega - (b + d) * x + c/(omega**2) * x**2 * y\n",
    "eq2 = b*x - c/(omega**2) * x**2 * y\n",
    "\n",
    "variables = sp.Matrix([x, y])\n",
    "equations = sp.Matrix([eq1, eq2])\n",
    "jacobian = equations.jacobian(variables)\n",
    "\n",
    "\n",
    "# substitute the fixed point values x = x*, y = y*\n",
    "jacobian_fixed = jacobian.subs({x:a*omega/d, y:omega*b*d/(c*a)})\n",
    "\n",
    "trace_jac = jacobian_fixed.trace()\n",
    "det_jac = jacobian_fixed.det()\n",
    "\n",
    "eig1 = (trace_jac + sp.sqrt(trace_jac**2 - 4*det_jac))/2\n",
    "eig2 = (trace_jac - sp.sqrt(trace_jac**2 - 4*det_jac))/2\n",
    "\n",
    "omega_jac = 1/2 * sp.sqrt(4*det_jac - trace_jac**2)\n",
    "\n",
    "display(omega_jac)\n",
    "display(eig1)"
   ]
  },
  {
   "cell_type": "code",
   "execution_count": null,
   "metadata": {},
   "outputs": [],
   "source": []
  }
 ],
 "metadata": {
  "kernelspec": {
   "display_name": "Python 3",
   "language": "python",
   "name": "python3"
  },
  "language_info": {
   "codemirror_mode": {
    "name": "ipython",
    "version": 3
   },
   "file_extension": ".py",
   "mimetype": "text/x-python",
   "name": "python",
   "nbconvert_exporter": "python",
   "pygments_lexer": "ipython3",
   "version": "3.9.6"
  }
 },
 "nbformat": 4,
 "nbformat_minor": 2
}
